{
  "nbformat": 4,
  "nbformat_minor": 0,
  "metadata": {
    "colab": {
      "name": "Morse_Code_Converter.ipynb",
      "provenance": []
    },
    "kernelspec": {
      "name": "python3",
      "display_name": "Python 3"
    },
    "language_info": {
      "name": "python"
    }
  },
  "cells": [
    {
      "cell_type": "code",
      "metadata": {
        "id": "Zx-y_RkvV0se"
      },
      "source": [
        "Morse_Code_Dict={'A':'.-','B':'-...','C':'-.-.','D':'-..','E':'.','F':'..-.','G':'--.','H':'....','I':'..',\n",
        "                 'J':'.---','K':'-.-','L':'.-..','M':'--','N':'-.','O':'---','P':'.--.','Q':'--.-','R':'.-.',\n",
        "                 'S':'...','T':'-','U':'..-','V':'...-','W':'.--','X':'-...-','Y':'-.--','Z':'--..',\n",
        "                 '0':'-----','1':'.----','2':'..---','3':'...--','4':'....-','5':'.....','6':'-....','7':'--...',\n",
        "                 '8':'---..','9':'----.',\n",
        "                 ',':'--..--','?':'..--..','.':'.-.-.-',':':'---...','/':'--..-.','-':'-....-',\"'\":'.----.','(':'-.--.',\n",
        "                 ')':'-.--.-','=':'-...-','+':'.-.-.','@':'.--.-.',' ':' '}"
      ],
      "execution_count": 84,
      "outputs": []
    },
    {
      "cell_type": "code",
      "metadata": {
        "colab": {
          "base_uri": "https://localhost:8080/"
        },
        "id": "ICTTUmXFcOFI",
        "outputId": "2c263145-3ad3-4d18-d7db-234a0aed838a"
      },
      "source": [
        "input_message=input(\"Enter the message in English:\")\n",
        "input_message=input_message.upper()\n",
        "input_message=input_message.split(' ')\n",
        "encoded_output=\"\"\n",
        "for i in input_message:\n",
        "  for j in i:\n",
        "    encoded_output=encoded_output+Morse_Code_Dict[j]+' '\n",
        "print(encoded_output)"
      ],
      "execution_count": 85,
      "outputs": [
        {
          "output_type": "stream",
          "text": [
            "Enter the message in English:The fighter crafts arrived today\n",
            "- .... . ..-. .. --. .... - . .-. -.-. .-. .- ..-. - ... .- .-. .-. .. ...- . -.. - --- -.. .- -.-- \n"
          ],
          "name": "stdout"
        }
      ]
    },
    {
      "cell_type": "code",
      "metadata": {
        "colab": {
          "base_uri": "https://localhost:8080/"
        },
        "id": "93haq5DNcyiQ",
        "outputId": "bb594e86-7d53-497b-8a5b-dc0a54f0ab4e"
      },
      "source": [
        "morse_input=input(\"Enter the encoded message:\")\n",
        "morse_input_=morse_input.split(' ')\n",
        "decoded_output=\"\"\n",
        "key_list = list(Morse_Code_Dict.keys())\n",
        "val_list = list(Morse_Code_Dict.values())\n",
        "print(morse_input)\n",
        "for i in morse_input_:\n",
        "  for j in range(0,len(val_list)):\n",
        "    if val_list[j]==i:\n",
        "      decoded_output=decoded_output+key_list[j]\n",
        "  decoded_output=decoded_output+\" \"\n",
        "print(decoded_output)"
      ],
      "execution_count": 86,
      "outputs": [
        {
          "output_type": "stream",
          "text": [
            "Enter the encoded message:- .... . ..-. .. --. .... - . .-. -.-. .-. .- ..-. - ... .- .-. .-. .. ...- . -.. - --- -.. .- -.--\n",
            "- .... . ..-. .. --. .... - . .-. -.-. .-. .- ..-. - ... .- .-. .-. .. ...- . -.. - --- -.. .- -.--\n",
            "T H E F I G H T E R C R A F T S A R R I V E D T O D A Y \n"
          ],
          "name": "stdout"
        }
      ]
    },
    {
      "cell_type": "code",
      "metadata": {
        "colab": {
          "base_uri": "https://localhost:8080/"
        },
        "id": "4qTWXAjiYHmm",
        "outputId": "8c20c0e9-6b07-4eba-d7e5-310656f7d16d"
      },
      "source": [
        "!pip install gtts"
      ],
      "execution_count": 87,
      "outputs": [
        {
          "output_type": "stream",
          "text": [
            "Requirement already satisfied: gtts in /usr/local/lib/python3.7/dist-packages (2.2.2)\n",
            "Requirement already satisfied: requests in /usr/local/lib/python3.7/dist-packages (from gtts) (2.23.0)\n",
            "Requirement already satisfied: click in /usr/local/lib/python3.7/dist-packages (from gtts) (7.1.2)\n",
            "Requirement already satisfied: six in /usr/local/lib/python3.7/dist-packages (from gtts) (1.15.0)\n",
            "Requirement already satisfied: certifi>=2017.4.17 in /usr/local/lib/python3.7/dist-packages (from requests->gtts) (2020.12.5)\n",
            "Requirement already satisfied: chardet<4,>=3.0.2 in /usr/local/lib/python3.7/dist-packages (from requests->gtts) (3.0.4)\n",
            "Requirement already satisfied: urllib3!=1.25.0,!=1.25.1,<1.26,>=1.21.1 in /usr/local/lib/python3.7/dist-packages (from requests->gtts) (1.24.3)\n",
            "Requirement already satisfied: idna<3,>=2.5 in /usr/local/lib/python3.7/dist-packages (from requests->gtts) (2.10)\n"
          ],
          "name": "stdout"
        }
      ]
    },
    {
      "cell_type": "code",
      "metadata": {
        "colab": {
          "base_uri": "https://localhost:8080/"
        },
        "id": "i6VhDqbwa_dm",
        "outputId": "ded293f7-9780-4dbd-c97e-2b359b0f42e0"
      },
      "source": [
        "!pip install tinytag"
      ],
      "execution_count": 88,
      "outputs": [
        {
          "output_type": "stream",
          "text": [
            "Requirement already satisfied: tinytag in /usr/local/lib/python3.7/dist-packages (1.5.0)\n"
          ],
          "name": "stdout"
        }
      ]
    },
    {
      "cell_type": "code",
      "metadata": {
        "colab": {
          "base_uri": "https://localhost:8080/"
        },
        "id": "TmJYp5d3YEim",
        "outputId": "a87042dc-d383-457a-d181-8c24386710fd"
      },
      "source": [
        "import time\n",
        "from tinytag import TinyTag\n",
        "tag_1 = TinyTag.get('/content/Morse Code Alphabet E Echo.mp3')\n",
        "print('This track is by %s.' % tag_1.artist)\n",
        "print('It is %f seconds long.' % tag_1.duration)"
      ],
      "execution_count": 89,
      "outputs": [
        {
          "output_type": "stream",
          "text": [
            "This track is by None.\n",
            "It is 1.420611 seconds long.\n"
          ],
          "name": "stdout"
        }
      ]
    },
    {
      "cell_type": "code",
      "metadata": {
        "colab": {
          "base_uri": "https://localhost:8080/"
        },
        "id": "2ugK6KRfddqC",
        "outputId": "f167624c-ec40-4608-9206-6e85c47a8b1b"
      },
      "source": [
        "import time\n",
        "from tinytag import TinyTag\n",
        "tag_2 = TinyTag.get('/content/Morse Code Alphabet T Tango.mp3')\n",
        "print('This track is by %s.' % tag_2.artist)\n",
        "print('It is %f seconds long.' % tag_2.duration)"
      ],
      "execution_count": 90,
      "outputs": [
        {
          "output_type": "stream",
          "text": [
            "This track is by None.\n",
            "It is 1.577346 seconds long.\n"
          ],
          "name": "stdout"
        }
      ]
    },
    {
      "cell_type": "code",
      "metadata": {
        "colab": {
          "base_uri": "https://localhost:8080/",
          "height": 35
        },
        "id": "_Z2gpQ-Cbl4_",
        "outputId": "cba1451f-b966-432d-e10f-27ddd0e5538d"
      },
      "source": [
        "encoded_output"
      ],
      "execution_count": 91,
      "outputs": [
        {
          "output_type": "execute_result",
          "data": {
            "application/vnd.google.colaboratory.intrinsic+json": {
              "type": "string"
            },
            "text/plain": [
              "'- .... . ..-. .. --. .... - . .-. -.-. .-. .- ..-. - ... .- .-. .-. .. ...- . -.. - --- -.. .- -.-- '"
            ]
          },
          "metadata": {
            "tags": []
          },
          "execution_count": 91
        }
      ]
    },
    {
      "cell_type": "code",
      "metadata": {
        "id": "o5eX5kY0hlrY"
      },
      "source": [
        "from time import sleep"
      ],
      "execution_count": 92,
      "outputs": []
    },
    {
      "cell_type": "code",
      "metadata": {
        "id": "aO492v3pje2r"
      },
      "source": [
        "def dot_fn():\n",
        "  output.eval_js('new Audio(\"https://morsecodealphabet.org/mp3/Morse%20Code%20Alphabet%20E%20Echo.mp3\").play()')\n",
        "  seconds = tag_1.duration/600\n",
        "  sleep(seconds)\n",
        "  print('dot',seconds)"
      ],
      "execution_count": 93,
      "outputs": []
    },
    {
      "cell_type": "code",
      "metadata": {
        "id": "NCzWoTTBjmGT"
      },
      "source": [
        "def dash_fn():\n",
        "  output.eval_js('new Audio(\"https://morsecodealphabet.org/mp3/Morse%20Code%20Alphabet%20T%20Tango.mp3\").play()')\n",
        "  seconds = tag_2.duration/600\n",
        "  sleep(seconds)\n",
        "  print('dash',seconds)"
      ],
      "execution_count": 94,
      "outputs": []
    },
    {
      "cell_type": "code",
      "metadata": {
        "colab": {
          "base_uri": "https://localhost:8080/",
          "height": 1000
        },
        "id": "NKUCbiQ9bJVC",
        "outputId": "114d5742-85b1-4cdb-acb8-9dc5d43d3122"
      },
      "source": [
        "from google.colab import output\n",
        "for i in encoded_output:\n",
        "    if i=='.':\n",
        "      dot_fn()\n",
        "    elif i=='-':\n",
        "      dash_fn()\n",
        "    elif i==' ':\n",
        "      seconds=1\n",
        "      sleep(seconds)\n",
        "      print(' ',seconds)"
      ],
      "execution_count": 95,
      "outputs": [
        {
          "output_type": "stream",
          "text": [
            "dash 0.002628909937180614\n",
            "  1\n",
            "dot 0.0023676854473846953\n",
            "dot 0.0023676854473846953\n",
            "dot 0.0023676854473846953\n",
            "dot 0.0023676854473846953\n",
            "  1\n",
            "dot 0.0023676854473846953\n",
            "  1\n",
            "dot 0.0023676854473846953\n",
            "dot 0.0023676854473846953\n",
            "dash 0.002628909937180614\n",
            "dot 0.0023676854473846953\n",
            "  1\n",
            "dot 0.0023676854473846953\n",
            "dot 0.0023676854473846953\n",
            "  1\n",
            "dash 0.002628909937180614\n",
            "dash 0.002628909937180614\n",
            "dot 0.0023676854473846953\n",
            "  1\n",
            "dot 0.0023676854473846953\n",
            "dot 0.0023676854473846953\n",
            "dot 0.0023676854473846953\n",
            "dot 0.0023676854473846953\n",
            "  1\n",
            "dash 0.002628909937180614\n",
            "  1\n",
            "dot 0.0023676854473846953\n",
            "  1\n",
            "dot 0.0023676854473846953\n",
            "dash 0.002628909937180614\n",
            "dot 0.0023676854473846953\n",
            "  1\n",
            "dash 0.002628909937180614\n",
            "dot 0.0023676854473846953\n",
            "dash 0.002628909937180614\n",
            "dot 0.0023676854473846953\n",
            "  1\n",
            "dot 0.0023676854473846953\n",
            "dash 0.002628909937180614\n",
            "dot 0.0023676854473846953\n",
            "  1\n",
            "dot 0.0023676854473846953\n",
            "dash 0.002628909937180614\n",
            "  1\n",
            "dot 0.0023676854473846953\n",
            "dot 0.0023676854473846953\n",
            "dash 0.002628909937180614\n",
            "dot 0.0023676854473846953\n",
            "  1\n",
            "dash 0.002628909937180614\n",
            "  1\n",
            "dot 0.0023676854473846953\n",
            "dot 0.0023676854473846953\n",
            "dot 0.0023676854473846953\n",
            "  1\n",
            "dot 0.0023676854473846953\n",
            "dash 0.002628909937180614\n",
            "  1\n",
            "dot 0.0023676854473846953\n",
            "dash 0.002628909937180614\n",
            "dot 0.0023676854473846953\n",
            "  1\n",
            "dot 0.0023676854473846953\n",
            "dash 0.002628909937180614\n",
            "dot 0.0023676854473846953\n",
            "  1\n",
            "dot 0.0023676854473846953\n",
            "dot 0.0023676854473846953\n",
            "  1\n",
            "dot 0.0023676854473846953\n",
            "dot 0.0023676854473846953\n",
            "dot 0.0023676854473846953\n",
            "dash 0.002628909937180614\n",
            "  1\n",
            "dot 0.0023676854473846953\n",
            "  1\n",
            "dash 0.002628909937180614\n",
            "dot 0.0023676854473846953\n",
            "dot 0.0023676854473846953\n",
            "  1\n",
            "dash 0.002628909937180614\n",
            "  1\n",
            "dash 0.002628909937180614\n",
            "dash 0.002628909937180614\n",
            "dash 0.002628909937180614\n",
            "  1\n",
            "dash 0.002628909937180614\n",
            "dot 0.0023676854473846953\n",
            "dot 0.0023676854473846953\n",
            "  1\n",
            "dot 0.0023676854473846953\n",
            "dash 0.002628909937180614\n",
            "  1\n",
            "dash 0.002628909937180614\n",
            "dot 0.0023676854473846953\n",
            "dash 0.002628909937180614\n",
            "dash 0.002628909937180614\n",
            "  1\n"
          ],
          "name": "stdout"
        }
      ]
    },
    {
      "cell_type": "code",
      "metadata": {
        "colab": {
          "base_uri": "https://localhost:8080/",
          "height": 75
        },
        "id": "GkeutlwteefL",
        "outputId": "538f32ce-8c1b-4998-bc1e-060789ec9d28"
      },
      "source": [
        "from gtts import gTTS #Import Google Text to Speech\n",
        "from IPython.display import Audio #Import Audio method from IPython's Display Class\n",
        "tts = gTTS(decoded_output) #Provide the string to convert to speech\n",
        "tts.save('1.wav') #save the string converted to speech as a .wav file\n",
        "sound_file = '1.wav'\n",
        "Audio(sound_file, autoplay=True) "
      ],
      "execution_count": 96,
      "outputs": [
        {
          "output_type": "execute_result",
          "data": {
            "text/html": [
              "\n",
              "                <audio controls=\"controls\" autoplay=\"autoplay\">\n",
              "                    <source src=\"data:audio/x-wav;base64,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\" type=\"audio/x-wav\" />\n",
              "                    Your browser does not support the audio element.\n",
              "                </audio>\n",
              "              "
            ],
            "text/plain": [
              "<IPython.lib.display.Audio object>"
            ]
          },
          "metadata": {
            "tags": []
          },
          "execution_count": 96
        }
      ]
    },
    {
      "cell_type": "code",
      "metadata": {
        "id": "YCCQYi7SlPKU"
      },
      "source": [
        ""
      ],
      "execution_count": null,
      "outputs": []
    }
  ]
}